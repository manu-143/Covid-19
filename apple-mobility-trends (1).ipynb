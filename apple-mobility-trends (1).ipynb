{
 "cells": [
  {
   "cell_type": "markdown",
   "metadata": {},
   "source": [
    "# APPLE MOBILITY TRENDS ACROSS THE WORLD (Jan to Apr) - COVID 19 impact on Mobility\n",
    "\n"
   ]
  },
  {
   "cell_type": "markdown",
   "metadata": {},
   "source": [
    "## ABSTRACT:\n"
   ]
  },
  {
   "cell_type": "markdown",
   "metadata": {},
   "source": [
    "The COVID-19 pandemic is considered as the most crucial global health calamity of the century and the greatest challenge that the humankind faced since the 2nd World War. In December 2019, a new infectious respiratory disease emerged in Wuhan, Hubei province, China and was named by the World Health Organization as COVID-19 (coronavirus disease 2019). A new class of corona virus, known as SARS-CoV-2 (severe acute respiratory syndrome coronavirus 2) has been found to be responsible for occurrence of this disease. As far as the history of human civilization is concerned there are instances of severe outbreaks of diseases caused by a number of viruses. According to the report of the World Health Organization (WHO as of April 18 2020), the current outbreak of COVID-19, has affected over 2164111 people and killed more than 146,198 people in more than 200 countries throughout the world. Till now there is no report of any clinically approved antiviral drugs or vaccines that are effective against COVID-19.\n",
    "\n",
    "It has rapidly spread around the world, posing enormous health, economic, environmental and social challenges to the entire human population. The coronavirus outbreak is severely disrupting the global economy. Almost all the nations are struggling to slow down the transmission of the disease by testing & treating patients, quarantining suspected persons through contact tracing, restricting large gatherings, maintaining complete or partial lock down etc. This paper describes the impact of COVID-19 on society and global environment, and the possible ways in which the disease can be controlled has also been discussed therein."
   ]
  },
  {
   "cell_type": "markdown",
   "metadata": {},
   "source": [
    "COVID 19 cases began surfacing around January, and increasing every day. This dataset can be used to study impacts on mobility in this COVID 19 period "
   ]
  },
  {
   "cell_type": "markdown",
   "metadata": {},
   "source": [
    "Due to COVID 19 spreading all across the world, there have been strict measures taken by the Governments of various Countries. Due to this people's mobility has also reduced across regions.\n",
    "The given dataset is an Apple provided mobility report (across transportation types such as `walking`, `driving`, `transit`.\n",
    "\n",
    "    How the mobility of people carrying the Apple mobile phones has changes, provides us an opportunity to study the mobility behaviors across the regions.\n",
    "    \n",
    "In this notebook, we shall do some EDA on this data to understand how the nations/regions followed some strict lockdown measures imposed by the governement, and how was the distribution of decreased mobility across different transport types. We will plot the population mobility (population using Apple product) to understand whether lockdown restrictions were abided by people of those regions.\n",
    "\n",
    "Further Work:\n",
    "This dataset can be further used for making judgments in taking decisions or actions, as to which region is more vulnerable to become a hotspot (If the mobility of a city/ region is increasing suddenly, that would mean that the chances of COVID 19 spreading would increase, and government would require to take best measures to control this mobility).\n",
    "\n",
    "Limitation: The dataset comes from Apple's product mobility, and hence the inferences would represent only fraction of the people who use Apple products. This becomes even more limiting in making inferences for regions, where Apple products do not have enough reach - this will result in very less data from that region."
   ]
  },
  {
   "cell_type": "code",
   "execution_count": 1,
   "metadata": {
    "_cell_guid": "b1076dfc-b9ad-4769-8c92-a6c4dae69d19",
    "_uuid": "8f2839f25d086af736a60e9eeb907d3b93b6e0e5"
   },
   "outputs": [],
   "source": [
    "import pandas as pd\n",
    "import numpy as np\n",
    "import seaborn as sns\n",
    "import matplotlib.pyplot as plt\n",
    "\n",
    "%matplotlib inline"
   ]
  },
  {
   "cell_type": "code",
   "execution_count": 2,
   "metadata": {},
   "outputs": [
    {
     "data": {
      "text/html": [
       "<div>\n",
       "<style scoped>\n",
       "    .dataframe tbody tr th:only-of-type {\n",
       "        vertical-align: middle;\n",
       "    }\n",
       "\n",
       "    .dataframe tbody tr th {\n",
       "        vertical-align: top;\n",
       "    }\n",
       "\n",
       "    .dataframe thead th {\n",
       "        text-align: right;\n",
       "    }\n",
       "</style>\n",
       "<table border=\"1\" class=\"dataframe\">\n",
       "  <thead>\n",
       "    <tr style=\"text-align: right;\">\n",
       "      <th></th>\n",
       "      <th>geo_type</th>\n",
       "      <th>region</th>\n",
       "      <th>transportation_type</th>\n",
       "      <th>2020-01-13</th>\n",
       "      <th>2020-01-14</th>\n",
       "      <th>2020-01-15</th>\n",
       "      <th>2020-01-16</th>\n",
       "      <th>2020-01-17</th>\n",
       "      <th>2020-01-18</th>\n",
       "      <th>2020-01-19</th>\n",
       "      <th>...</th>\n",
       "      <th>2020-04-05</th>\n",
       "      <th>2020-04-06</th>\n",
       "      <th>2020-04-07</th>\n",
       "      <th>2020-04-08</th>\n",
       "      <th>2020-04-09</th>\n",
       "      <th>2020-04-10</th>\n",
       "      <th>2020-04-11</th>\n",
       "      <th>2020-04-12</th>\n",
       "      <th>2020-04-13</th>\n",
       "      <th>2020-04-14</th>\n",
       "    </tr>\n",
       "  </thead>\n",
       "  <tbody>\n",
       "    <tr>\n",
       "      <th>0</th>\n",
       "      <td>country/region</td>\n",
       "      <td>Albania</td>\n",
       "      <td>driving</td>\n",
       "      <td>100</td>\n",
       "      <td>95.30</td>\n",
       "      <td>101.43</td>\n",
       "      <td>97.20</td>\n",
       "      <td>103.55</td>\n",
       "      <td>112.67</td>\n",
       "      <td>104.83</td>\n",
       "      <td>...</td>\n",
       "      <td>22.54</td>\n",
       "      <td>26.40</td>\n",
       "      <td>26.03</td>\n",
       "      <td>26.43</td>\n",
       "      <td>26.70</td>\n",
       "      <td>26.32</td>\n",
       "      <td>25.47</td>\n",
       "      <td>24.89</td>\n",
       "      <td>32.64</td>\n",
       "      <td>31.43</td>\n",
       "    </tr>\n",
       "    <tr>\n",
       "      <th>1</th>\n",
       "      <td>country/region</td>\n",
       "      <td>Albania</td>\n",
       "      <td>walking</td>\n",
       "      <td>100</td>\n",
       "      <td>100.68</td>\n",
       "      <td>98.93</td>\n",
       "      <td>98.46</td>\n",
       "      <td>100.85</td>\n",
       "      <td>100.13</td>\n",
       "      <td>82.13</td>\n",
       "      <td>...</td>\n",
       "      <td>23.92</td>\n",
       "      <td>31.13</td>\n",
       "      <td>25.80</td>\n",
       "      <td>29.81</td>\n",
       "      <td>28.96</td>\n",
       "      <td>27.29</td>\n",
       "      <td>27.63</td>\n",
       "      <td>29.59</td>\n",
       "      <td>35.52</td>\n",
       "      <td>38.08</td>\n",
       "    </tr>\n",
       "    <tr>\n",
       "      <th>2</th>\n",
       "      <td>country/region</td>\n",
       "      <td>Argentina</td>\n",
       "      <td>driving</td>\n",
       "      <td>100</td>\n",
       "      <td>97.07</td>\n",
       "      <td>102.45</td>\n",
       "      <td>111.21</td>\n",
       "      <td>118.45</td>\n",
       "      <td>124.01</td>\n",
       "      <td>95.44</td>\n",
       "      <td>...</td>\n",
       "      <td>11.53</td>\n",
       "      <td>17.24</td>\n",
       "      <td>18.55</td>\n",
       "      <td>19.95</td>\n",
       "      <td>19.80</td>\n",
       "      <td>16.80</td>\n",
       "      <td>19.40</td>\n",
       "      <td>12.89</td>\n",
       "      <td>21.10</td>\n",
       "      <td>22.29</td>\n",
       "    </tr>\n",
       "    <tr>\n",
       "      <th>3</th>\n",
       "      <td>country/region</td>\n",
       "      <td>Argentina</td>\n",
       "      <td>walking</td>\n",
       "      <td>100</td>\n",
       "      <td>95.11</td>\n",
       "      <td>101.37</td>\n",
       "      <td>112.67</td>\n",
       "      <td>116.72</td>\n",
       "      <td>114.14</td>\n",
       "      <td>84.54</td>\n",
       "      <td>...</td>\n",
       "      <td>9.12</td>\n",
       "      <td>11.85</td>\n",
       "      <td>13.49</td>\n",
       "      <td>15.51</td>\n",
       "      <td>14.65</td>\n",
       "      <td>13.58</td>\n",
       "      <td>15.75</td>\n",
       "      <td>10.45</td>\n",
       "      <td>16.35</td>\n",
       "      <td>16.66</td>\n",
       "    </tr>\n",
       "    <tr>\n",
       "      <th>4</th>\n",
       "      <td>country/region</td>\n",
       "      <td>Australia</td>\n",
       "      <td>driving</td>\n",
       "      <td>100</td>\n",
       "      <td>102.98</td>\n",
       "      <td>104.21</td>\n",
       "      <td>108.63</td>\n",
       "      <td>109.08</td>\n",
       "      <td>89.00</td>\n",
       "      <td>99.35</td>\n",
       "      <td>...</td>\n",
       "      <td>51.75</td>\n",
       "      <td>53.17</td>\n",
       "      <td>55.01</td>\n",
       "      <td>59.24</td>\n",
       "      <td>33.19</td>\n",
       "      <td>36.00</td>\n",
       "      <td>26.95</td>\n",
       "      <td>31.72</td>\n",
       "      <td>53.14</td>\n",
       "      <td>55.91</td>\n",
       "    </tr>\n",
       "  </tbody>\n",
       "</table>\n",
       "<p>5 rows × 96 columns</p>\n",
       "</div>"
      ],
      "text/plain": [
       "         geo_type     region transportation_type  2020-01-13  2020-01-14  \\\n",
       "0  country/region    Albania             driving         100       95.30   \n",
       "1  country/region    Albania             walking         100      100.68   \n",
       "2  country/region  Argentina             driving         100       97.07   \n",
       "3  country/region  Argentina             walking         100       95.11   \n",
       "4  country/region  Australia             driving         100      102.98   \n",
       "\n",
       "   2020-01-15  2020-01-16  2020-01-17  2020-01-18  2020-01-19     ...      \\\n",
       "0      101.43       97.20      103.55      112.67      104.83     ...       \n",
       "1       98.93       98.46      100.85      100.13       82.13     ...       \n",
       "2      102.45      111.21      118.45      124.01       95.44     ...       \n",
       "3      101.37      112.67      116.72      114.14       84.54     ...       \n",
       "4      104.21      108.63      109.08       89.00       99.35     ...       \n",
       "\n",
       "   2020-04-05  2020-04-06  2020-04-07  2020-04-08  2020-04-09  2020-04-10  \\\n",
       "0       22.54       26.40       26.03       26.43       26.70       26.32   \n",
       "1       23.92       31.13       25.80       29.81       28.96       27.29   \n",
       "2       11.53       17.24       18.55       19.95       19.80       16.80   \n",
       "3        9.12       11.85       13.49       15.51       14.65       13.58   \n",
       "4       51.75       53.17       55.01       59.24       33.19       36.00   \n",
       "\n",
       "   2020-04-11  2020-04-12  2020-04-13  2020-04-14  \n",
       "0       25.47       24.89       32.64       31.43  \n",
       "1       27.63       29.59       35.52       38.08  \n",
       "2       19.40       12.89       21.10       22.29  \n",
       "3       15.75       10.45       16.35       16.66  \n",
       "4       26.95       31.72       53.14       55.91  \n",
       "\n",
       "[5 rows x 96 columns]"
      ]
     },
     "execution_count": 2,
     "metadata": {},
     "output_type": "execute_result"
    }
   ],
   "source": [
    "apple = pd.read_csv('applemobility.csv')\n",
    "apple.head()"
   ]
  },
  {
   "cell_type": "markdown",
   "metadata": {},
   "source": [
    "One can observe the transporation type taken into consideration countrywise."
   ]
  },
  {
   "cell_type": "code",
   "execution_count": 3,
   "metadata": {
    "_cell_guid": "79c7e3d0-c299-4dcb-8224-4455121ee9b0",
    "_uuid": "d629ff2d2480ee46fbb7e2d37f6b5fab8052498a"
   },
   "outputs": [
    {
     "data": {
      "text/plain": [
       "(395, 96)"
      ]
     },
     "execution_count": 3,
     "metadata": {},
     "output_type": "execute_result"
    }
   ],
   "source": [
    "apple.shape"
   ]
  },
  {
   "cell_type": "markdown",
   "metadata": {},
   "source": [
    "The above dataset contains data about relative volume of Direction Requests from differen region in Apple Maps. The Data of Jan 13 2020 has been fixed as 100 and for the succeding dates it is the relative volume as compared with Jan 13th data."
   ]
  },
  {
   "cell_type": "code",
   "execution_count": 4,
   "metadata": {},
   "outputs": [
    {
     "name": "stdout",
     "output_type": "stream",
     "text": [
      "There are a total of 153 countires and 242 cities with provided mobility data.\n"
     ]
    }
   ],
   "source": [
    "#Break into countires/regions and cities\n",
    "geo_mask = apple['geo_type'] == \"country/region\"\n",
    "mobility_countries = apple[geo_mask]\n",
    "mobility_cities = apple[~geo_mask]\n",
    "print(\"There are a total of {} countires and {} cities with provided mobility data.\".format(len(mobility_countries),\n",
    "                                                                                           len(mobility_cities)))"
   ]
  },
  {
   "cell_type": "code",
   "execution_count": 5,
   "metadata": {},
   "outputs": [
    {
     "name": "stdout",
     "output_type": "stream",
     "text": [
      "Here we can find mobility count in respective country and the city\n",
      "\n",
      "         country/region  city\n",
      "driving              63    89\n",
      "walking              63    89\n",
      "transit              27    64\n"
     ]
    }
   ],
   "source": [
    "def get_trans_count(df):\n",
    "    name = df[\"geo_type\"].iloc[0]\n",
    "    return df[\"transportation_type\"].value_counts().rename(str(name))\n",
    "transport_types_count = pd.concat([get_trans_count(mobility_countries), get_trans_count(mobility_cities)], axis=1)\n",
    "print(\"Here we can find mobility count in respective country and the city\\n\")\n",
    "print(transport_types_count)\n"
   ]
  },
  {
   "cell_type": "code",
   "execution_count": 6,
   "metadata": {},
   "outputs": [
    {
     "data": {
      "text/html": [
       "<div>\n",
       "<style scoped>\n",
       "    .dataframe tbody tr th:only-of-type {\n",
       "        vertical-align: middle;\n",
       "    }\n",
       "\n",
       "    .dataframe tbody tr th {\n",
       "        vertical-align: top;\n",
       "    }\n",
       "\n",
       "    .dataframe thead th {\n",
       "        text-align: right;\n",
       "    }\n",
       "</style>\n",
       "<table border=\"1\" class=\"dataframe\">\n",
       "  <thead>\n",
       "    <tr style=\"text-align: right;\">\n",
       "      <th></th>\n",
       "      <th>2020-01-13</th>\n",
       "      <th>2020-01-14</th>\n",
       "      <th>2020-01-15</th>\n",
       "      <th>2020-01-16</th>\n",
       "      <th>2020-01-17</th>\n",
       "      <th>2020-01-18</th>\n",
       "      <th>2020-01-19</th>\n",
       "      <th>2020-01-20</th>\n",
       "      <th>2020-01-21</th>\n",
       "      <th>2020-01-22</th>\n",
       "      <th>...</th>\n",
       "      <th>2020-04-05</th>\n",
       "      <th>2020-04-06</th>\n",
       "      <th>2020-04-07</th>\n",
       "      <th>2020-04-08</th>\n",
       "      <th>2020-04-09</th>\n",
       "      <th>2020-04-10</th>\n",
       "      <th>2020-04-11</th>\n",
       "      <th>2020-04-12</th>\n",
       "      <th>2020-04-13</th>\n",
       "      <th>2020-04-14</th>\n",
       "    </tr>\n",
       "  </thead>\n",
       "  <tbody>\n",
       "    <tr>\n",
       "      <th>count</th>\n",
       "      <td>395.0</td>\n",
       "      <td>395.000000</td>\n",
       "      <td>395.000000</td>\n",
       "      <td>395.000000</td>\n",
       "      <td>395.000000</td>\n",
       "      <td>395.000000</td>\n",
       "      <td>395.000000</td>\n",
       "      <td>395.000000</td>\n",
       "      <td>395.000000</td>\n",
       "      <td>395.000000</td>\n",
       "      <td>...</td>\n",
       "      <td>395.000000</td>\n",
       "      <td>395.000000</td>\n",
       "      <td>395.000000</td>\n",
       "      <td>395.000000</td>\n",
       "      <td>395.000000</td>\n",
       "      <td>395.000000</td>\n",
       "      <td>395.000000</td>\n",
       "      <td>395.000000</td>\n",
       "      <td>395.000000</td>\n",
       "      <td>395.000000</td>\n",
       "    </tr>\n",
       "    <tr>\n",
       "      <th>mean</th>\n",
       "      <td>100.0</td>\n",
       "      <td>102.051367</td>\n",
       "      <td>104.575949</td>\n",
       "      <td>107.315089</td>\n",
       "      <td>118.304886</td>\n",
       "      <td>116.855418</td>\n",
       "      <td>96.516025</td>\n",
       "      <td>102.030506</td>\n",
       "      <td>104.140861</td>\n",
       "      <td>105.272911</td>\n",
       "      <td>...</td>\n",
       "      <td>36.495747</td>\n",
       "      <td>39.549519</td>\n",
       "      <td>40.279013</td>\n",
       "      <td>40.748127</td>\n",
       "      <td>39.436152</td>\n",
       "      <td>39.566937</td>\n",
       "      <td>36.836304</td>\n",
       "      <td>32.842278</td>\n",
       "      <td>37.042734</td>\n",
       "      <td>39.554329</td>\n",
       "    </tr>\n",
       "    <tr>\n",
       "      <th>std</th>\n",
       "      <td>0.0</td>\n",
       "      <td>4.074084</td>\n",
       "      <td>6.255253</td>\n",
       "      <td>7.713471</td>\n",
       "      <td>13.879839</td>\n",
       "      <td>22.067678</td>\n",
       "      <td>14.519740</td>\n",
       "      <td>9.793529</td>\n",
       "      <td>9.770959</td>\n",
       "      <td>9.003694</td>\n",
       "      <td>...</td>\n",
       "      <td>21.245849</td>\n",
       "      <td>20.336866</td>\n",
       "      <td>20.280418</td>\n",
       "      <td>20.655334</td>\n",
       "      <td>19.994238</td>\n",
       "      <td>21.398051</td>\n",
       "      <td>19.191664</td>\n",
       "      <td>17.313402</td>\n",
       "      <td>17.746450</td>\n",
       "      <td>18.393675</td>\n",
       "    </tr>\n",
       "    <tr>\n",
       "      <th>min</th>\n",
       "      <td>100.0</td>\n",
       "      <td>90.140000</td>\n",
       "      <td>73.720000</td>\n",
       "      <td>74.530000</td>\n",
       "      <td>83.960000</td>\n",
       "      <td>69.280000</td>\n",
       "      <td>43.790000</td>\n",
       "      <td>72.900000</td>\n",
       "      <td>69.790000</td>\n",
       "      <td>78.250000</td>\n",
       "      <td>...</td>\n",
       "      <td>3.780000</td>\n",
       "      <td>5.450000</td>\n",
       "      <td>5.800000</td>\n",
       "      <td>5.780000</td>\n",
       "      <td>5.480000</td>\n",
       "      <td>4.460000</td>\n",
       "      <td>4.910000</td>\n",
       "      <td>4.130000</td>\n",
       "      <td>4.470000</td>\n",
       "      <td>6.530000</td>\n",
       "    </tr>\n",
       "    <tr>\n",
       "      <th>25%</th>\n",
       "      <td>100.0</td>\n",
       "      <td>99.860000</td>\n",
       "      <td>101.205000</td>\n",
       "      <td>102.705000</td>\n",
       "      <td>108.080000</td>\n",
       "      <td>100.310000</td>\n",
       "      <td>86.675000</td>\n",
       "      <td>97.340000</td>\n",
       "      <td>99.070000</td>\n",
       "      <td>99.900000</td>\n",
       "      <td>...</td>\n",
       "      <td>19.370000</td>\n",
       "      <td>23.420000</td>\n",
       "      <td>23.840000</td>\n",
       "      <td>23.400000</td>\n",
       "      <td>22.575000</td>\n",
       "      <td>22.455000</td>\n",
       "      <td>20.960000</td>\n",
       "      <td>18.410000</td>\n",
       "      <td>22.395000</td>\n",
       "      <td>23.550000</td>\n",
       "    </tr>\n",
       "    <tr>\n",
       "      <th>50%</th>\n",
       "      <td>100.0</td>\n",
       "      <td>101.780000</td>\n",
       "      <td>104.190000</td>\n",
       "      <td>106.870000</td>\n",
       "      <td>117.780000</td>\n",
       "      <td>114.840000</td>\n",
       "      <td>97.880000</td>\n",
       "      <td>101.210000</td>\n",
       "      <td>102.930000</td>\n",
       "      <td>104.320000</td>\n",
       "      <td>...</td>\n",
       "      <td>33.360000</td>\n",
       "      <td>37.300000</td>\n",
       "      <td>38.130000</td>\n",
       "      <td>38.930000</td>\n",
       "      <td>36.880000</td>\n",
       "      <td>35.990000</td>\n",
       "      <td>34.530000</td>\n",
       "      <td>31.690000</td>\n",
       "      <td>36.540000</td>\n",
       "      <td>38.910000</td>\n",
       "    </tr>\n",
       "    <tr>\n",
       "      <th>75%</th>\n",
       "      <td>100.0</td>\n",
       "      <td>104.045000</td>\n",
       "      <td>107.030000</td>\n",
       "      <td>110.265000</td>\n",
       "      <td>127.260000</td>\n",
       "      <td>129.935000</td>\n",
       "      <td>105.955000</td>\n",
       "      <td>104.810000</td>\n",
       "      <td>107.625000</td>\n",
       "      <td>109.030000</td>\n",
       "      <td>...</td>\n",
       "      <td>47.640000</td>\n",
       "      <td>52.660000</td>\n",
       "      <td>53.520000</td>\n",
       "      <td>55.315000</td>\n",
       "      <td>52.910000</td>\n",
       "      <td>51.985000</td>\n",
       "      <td>49.595000</td>\n",
       "      <td>43.520000</td>\n",
       "      <td>47.865000</td>\n",
       "      <td>52.235000</td>\n",
       "    </tr>\n",
       "    <tr>\n",
       "      <th>max</th>\n",
       "      <td>100.0</td>\n",
       "      <td>115.040000</td>\n",
       "      <td>138.000000</td>\n",
       "      <td>139.900000</td>\n",
       "      <td>173.980000</td>\n",
       "      <td>184.300000</td>\n",
       "      <td>157.280000</td>\n",
       "      <td>179.090000</td>\n",
       "      <td>159.860000</td>\n",
       "      <td>150.620000</td>\n",
       "      <td>...</td>\n",
       "      <td>108.250000</td>\n",
       "      <td>103.300000</td>\n",
       "      <td>101.080000</td>\n",
       "      <td>102.940000</td>\n",
       "      <td>104.480000</td>\n",
       "      <td>126.380000</td>\n",
       "      <td>103.790000</td>\n",
       "      <td>87.950000</td>\n",
       "      <td>94.740000</td>\n",
       "      <td>92.090000</td>\n",
       "    </tr>\n",
       "  </tbody>\n",
       "</table>\n",
       "<p>8 rows × 93 columns</p>\n",
       "</div>"
      ],
      "text/plain": [
       "       2020-01-13  2020-01-14  2020-01-15  2020-01-16  2020-01-17  2020-01-18  \\\n",
       "count       395.0  395.000000  395.000000  395.000000  395.000000  395.000000   \n",
       "mean        100.0  102.051367  104.575949  107.315089  118.304886  116.855418   \n",
       "std           0.0    4.074084    6.255253    7.713471   13.879839   22.067678   \n",
       "min         100.0   90.140000   73.720000   74.530000   83.960000   69.280000   \n",
       "25%         100.0   99.860000  101.205000  102.705000  108.080000  100.310000   \n",
       "50%         100.0  101.780000  104.190000  106.870000  117.780000  114.840000   \n",
       "75%         100.0  104.045000  107.030000  110.265000  127.260000  129.935000   \n",
       "max         100.0  115.040000  138.000000  139.900000  173.980000  184.300000   \n",
       "\n",
       "       2020-01-19  2020-01-20  2020-01-21  2020-01-22     ...      2020-04-05  \\\n",
       "count  395.000000  395.000000  395.000000  395.000000     ...      395.000000   \n",
       "mean    96.516025  102.030506  104.140861  105.272911     ...       36.495747   \n",
       "std     14.519740    9.793529    9.770959    9.003694     ...       21.245849   \n",
       "min     43.790000   72.900000   69.790000   78.250000     ...        3.780000   \n",
       "25%     86.675000   97.340000   99.070000   99.900000     ...       19.370000   \n",
       "50%     97.880000  101.210000  102.930000  104.320000     ...       33.360000   \n",
       "75%    105.955000  104.810000  107.625000  109.030000     ...       47.640000   \n",
       "max    157.280000  179.090000  159.860000  150.620000     ...      108.250000   \n",
       "\n",
       "       2020-04-06  2020-04-07  2020-04-08  2020-04-09  2020-04-10  2020-04-11  \\\n",
       "count  395.000000  395.000000  395.000000  395.000000  395.000000  395.000000   \n",
       "mean    39.549519   40.279013   40.748127   39.436152   39.566937   36.836304   \n",
       "std     20.336866   20.280418   20.655334   19.994238   21.398051   19.191664   \n",
       "min      5.450000    5.800000    5.780000    5.480000    4.460000    4.910000   \n",
       "25%     23.420000   23.840000   23.400000   22.575000   22.455000   20.960000   \n",
       "50%     37.300000   38.130000   38.930000   36.880000   35.990000   34.530000   \n",
       "75%     52.660000   53.520000   55.315000   52.910000   51.985000   49.595000   \n",
       "max    103.300000  101.080000  102.940000  104.480000  126.380000  103.790000   \n",
       "\n",
       "       2020-04-12  2020-04-13  2020-04-14  \n",
       "count  395.000000  395.000000  395.000000  \n",
       "mean    32.842278   37.042734   39.554329  \n",
       "std     17.313402   17.746450   18.393675  \n",
       "min      4.130000    4.470000    6.530000  \n",
       "25%     18.410000   22.395000   23.550000  \n",
       "50%     31.690000   36.540000   38.910000  \n",
       "75%     43.520000   47.865000   52.235000  \n",
       "max     87.950000   94.740000   92.090000  \n",
       "\n",
       "[8 rows x 93 columns]"
      ]
     },
     "execution_count": 6,
     "metadata": {},
     "output_type": "execute_result"
    }
   ],
   "source": [
    "apple.describe()   #statistical description of the data"
   ]
  },
  {
   "cell_type": "code",
   "execution_count": 7,
   "metadata": {},
   "outputs": [
    {
     "name": "stdout",
     "output_type": "stream",
     "text": [
      "['country/region' 'city']\n",
      "['driving' 'walking' 'transit']\n"
     ]
    }
   ],
   "source": [
    "print(apple.geo_type.unique())\n",
    "print(apple.transportation_type.unique())"
   ]
  },
  {
   "cell_type": "code",
   "execution_count": 8,
   "metadata": {},
   "outputs": [],
   "source": [
    "# drop country/ region as it is not needed in the analysis\n",
    "\n",
    "apple = apple.drop(['geo_type'], axis = 1)"
   ]
  },
  {
   "cell_type": "code",
   "execution_count": 9,
   "metadata": {},
   "outputs": [
    {
     "name": "stdout",
     "output_type": "stream",
     "text": [
      "152\n",
      "['Albania', 'Argentina', 'Australia', 'Austria', 'Belgium', 'Brazil', 'Bulgaria', 'Cambodia', 'Canada', 'Chile', 'Colombia', 'Croatia', 'Czech Republic', 'Denmark', 'Egypt', 'Estonia', 'Finland', 'France', 'Germany', 'Greece', 'Hong Kong', 'Hungary', 'Iceland', 'India', 'Indonesia', 'Ireland', 'Israel', 'Italy', 'Japan', 'Latvia', 'Lithuania', 'Luxembourg', 'Macao', 'Malaysia', 'Mexico', 'Morocco', 'Netherlands', 'New Zealand', 'Norway', 'Philippines', 'Poland', 'Portugal', 'Republic of Korea', 'Romania', 'Russia', 'Saudi Arabia', 'Serbia', 'Singapore', 'Slovakia', 'Slovenia', 'South Africa', 'Spain', 'Sweden', 'Switzerland', 'Taiwan', 'Thailand', 'Turkey', 'UK', 'United States', 'Ukraine', 'United Arab Emirates', 'Uruguay', 'Vietnam', 'Amsterdam', 'Athens', 'Atlanta', 'Auckland', 'Baltimore', 'Bangkok', 'Barcelona', 'Berlin', 'Birmingham - UK', 'Bochum - Dortmund', 'Boston', 'Brisbane', 'Brussels', 'Buenos Aires', 'Cairo', 'Calgary', 'Cape Town', 'Chicago', 'Cologne', 'Copenhagen', 'Dallas', 'Delhi', 'Denver', 'Detroit', 'Dubai', 'Dublin', 'Dusseldorf', 'Edmonton', 'Frankfurt', 'Fukuoka', 'Guadalajara', 'Halifax', 'Hamburg', 'Helsinki', 'Houston', 'Hsin-chu', 'Istanbul', 'Jakarta', 'Johannesburg', 'Kuala Lumpur', 'Leeds', 'Lille', 'London', 'Los Angeles', 'Lyon', 'Madrid', 'Manchester', 'Manila', 'Melbourne', 'Mexico City', 'Miami', 'Milan', 'Montreal', 'Moscow', 'Mumbai', 'Munich', 'Nagoya', 'New York City', 'Osaka', 'Oslo', 'Ottawa', 'Paris', 'Perth', 'Philadelphia', 'Rio de Janeiro', 'Riyadh', 'Rome', 'Rotterdam', 'Saint Petersburg', 'San Francisco - Bay Area', 'Santiago', 'Sao Paulo', 'Seattle', 'Seoul', 'Stockholm', 'Stuttgart', 'Sydney', 'Taichung', 'Taipei', 'Tel Aviv', 'Tijuana', 'Tokyo', 'Toronto', 'Toulouse', 'Utrecht', 'Vancouver', 'Vienna', 'Washington DC', 'Zurich']\n"
     ]
    }
   ],
   "source": [
    "print(apple.region.nunique())\n",
    "regions = list(apple.region.unique())\n",
    "print(regions)"
   ]
  },
  {
   "cell_type": "markdown",
   "metadata": {},
   "source": [
    "Visualization Objectives:\n",
    "\n",
    "-Visualize mobility of people in different countries over time (1/13/2020 to 04/14/2020)\n",
    "\n",
    "-Mobility can be visualized for the Transportantion_types"
   ]
  },
  {
   "cell_type": "code",
   "execution_count": 10,
   "metadata": {},
   "outputs": [
    {
     "data": {
      "text/html": [
       "<div>\n",
       "<style scoped>\n",
       "    .dataframe tbody tr th:only-of-type {\n",
       "        vertical-align: middle;\n",
       "    }\n",
       "\n",
       "    .dataframe tbody tr th {\n",
       "        vertical-align: top;\n",
       "    }\n",
       "\n",
       "    .dataframe thead th {\n",
       "        text-align: right;\n",
       "    }\n",
       "</style>\n",
       "<table border=\"1\" class=\"dataframe\">\n",
       "  <thead>\n",
       "    <tr style=\"text-align: right;\">\n",
       "      <th></th>\n",
       "      <th>region</th>\n",
       "      <th>2020-01-13</th>\n",
       "      <th>2020-01-14</th>\n",
       "      <th>2020-01-15</th>\n",
       "      <th>2020-01-16</th>\n",
       "      <th>2020-01-17</th>\n",
       "      <th>2020-01-18</th>\n",
       "      <th>2020-01-19</th>\n",
       "      <th>2020-01-20</th>\n",
       "      <th>2020-01-21</th>\n",
       "      <th>...</th>\n",
       "      <th>2020-04-05</th>\n",
       "      <th>2020-04-06</th>\n",
       "      <th>2020-04-07</th>\n",
       "      <th>2020-04-08</th>\n",
       "      <th>2020-04-09</th>\n",
       "      <th>2020-04-10</th>\n",
       "      <th>2020-04-11</th>\n",
       "      <th>2020-04-12</th>\n",
       "      <th>2020-04-13</th>\n",
       "      <th>2020-04-14</th>\n",
       "    </tr>\n",
       "  </thead>\n",
       "  <tbody>\n",
       "    <tr>\n",
       "      <th>0</th>\n",
       "      <td>Albania</td>\n",
       "      <td>200</td>\n",
       "      <td>195.98</td>\n",
       "      <td>200.36</td>\n",
       "      <td>195.66</td>\n",
       "      <td>204.40</td>\n",
       "      <td>212.80</td>\n",
       "      <td>186.96</td>\n",
       "      <td>190.04</td>\n",
       "      <td>191.85</td>\n",
       "      <td>...</td>\n",
       "      <td>46.46</td>\n",
       "      <td>57.53</td>\n",
       "      <td>51.83</td>\n",
       "      <td>56.24</td>\n",
       "      <td>55.66</td>\n",
       "      <td>53.61</td>\n",
       "      <td>53.10</td>\n",
       "      <td>54.48</td>\n",
       "      <td>68.16</td>\n",
       "      <td>69.51</td>\n",
       "    </tr>\n",
       "    <tr>\n",
       "      <th>1</th>\n",
       "      <td>Amsterdam</td>\n",
       "      <td>300</td>\n",
       "      <td>302.08</td>\n",
       "      <td>305.87</td>\n",
       "      <td>316.03</td>\n",
       "      <td>371.64</td>\n",
       "      <td>405.75</td>\n",
       "      <td>327.67</td>\n",
       "      <td>302.16</td>\n",
       "      <td>312.82</td>\n",
       "      <td>...</td>\n",
       "      <td>75.43</td>\n",
       "      <td>78.72</td>\n",
       "      <td>84.27</td>\n",
       "      <td>89.65</td>\n",
       "      <td>91.45</td>\n",
       "      <td>94.55</td>\n",
       "      <td>84.59</td>\n",
       "      <td>66.81</td>\n",
       "      <td>69.77</td>\n",
       "      <td>77.98</td>\n",
       "    </tr>\n",
       "    <tr>\n",
       "      <th>2</th>\n",
       "      <td>Argentina</td>\n",
       "      <td>200</td>\n",
       "      <td>192.18</td>\n",
       "      <td>203.82</td>\n",
       "      <td>223.88</td>\n",
       "      <td>235.17</td>\n",
       "      <td>238.15</td>\n",
       "      <td>179.98</td>\n",
       "      <td>196.50</td>\n",
       "      <td>201.54</td>\n",
       "      <td>...</td>\n",
       "      <td>20.65</td>\n",
       "      <td>29.09</td>\n",
       "      <td>32.04</td>\n",
       "      <td>35.46</td>\n",
       "      <td>34.45</td>\n",
       "      <td>30.38</td>\n",
       "      <td>35.15</td>\n",
       "      <td>23.34</td>\n",
       "      <td>37.45</td>\n",
       "      <td>38.95</td>\n",
       "    </tr>\n",
       "    <tr>\n",
       "      <th>3</th>\n",
       "      <td>Athens</td>\n",
       "      <td>200</td>\n",
       "      <td>200.20</td>\n",
       "      <td>202.58</td>\n",
       "      <td>213.19</td>\n",
       "      <td>235.32</td>\n",
       "      <td>237.09</td>\n",
       "      <td>190.43</td>\n",
       "      <td>187.43</td>\n",
       "      <td>192.26</td>\n",
       "      <td>...</td>\n",
       "      <td>34.53</td>\n",
       "      <td>46.45</td>\n",
       "      <td>46.89</td>\n",
       "      <td>55.38</td>\n",
       "      <td>58.33</td>\n",
       "      <td>64.85</td>\n",
       "      <td>63.77</td>\n",
       "      <td>64.79</td>\n",
       "      <td>68.02</td>\n",
       "      <td>70.61</td>\n",
       "    </tr>\n",
       "    <tr>\n",
       "      <th>4</th>\n",
       "      <td>Atlanta</td>\n",
       "      <td>300</td>\n",
       "      <td>308.82</td>\n",
       "      <td>318.46</td>\n",
       "      <td>326.05</td>\n",
       "      <td>355.01</td>\n",
       "      <td>339.10</td>\n",
       "      <td>261.15</td>\n",
       "      <td>282.91</td>\n",
       "      <td>290.49</td>\n",
       "      <td>...</td>\n",
       "      <td>121.86</td>\n",
       "      <td>153.26</td>\n",
       "      <td>149.76</td>\n",
       "      <td>154.83</td>\n",
       "      <td>162.29</td>\n",
       "      <td>173.56</td>\n",
       "      <td>163.83</td>\n",
       "      <td>100.36</td>\n",
       "      <td>160.84</td>\n",
       "      <td>167.65</td>\n",
       "    </tr>\n",
       "  </tbody>\n",
       "</table>\n",
       "<p>5 rows × 94 columns</p>\n",
       "</div>"
      ],
      "text/plain": [
       "      region  2020-01-13  2020-01-14  2020-01-15  2020-01-16  2020-01-17  \\\n",
       "0    Albania         200      195.98      200.36      195.66      204.40   \n",
       "1  Amsterdam         300      302.08      305.87      316.03      371.64   \n",
       "2  Argentina         200      192.18      203.82      223.88      235.17   \n",
       "3     Athens         200      200.20      202.58      213.19      235.32   \n",
       "4    Atlanta         300      308.82      318.46      326.05      355.01   \n",
       "\n",
       "   2020-01-18  2020-01-19  2020-01-20  2020-01-21     ...      2020-04-05  \\\n",
       "0      212.80      186.96      190.04      191.85     ...           46.46   \n",
       "1      405.75      327.67      302.16      312.82     ...           75.43   \n",
       "2      238.15      179.98      196.50      201.54     ...           20.65   \n",
       "3      237.09      190.43      187.43      192.26     ...           34.53   \n",
       "4      339.10      261.15      282.91      290.49     ...          121.86   \n",
       "\n",
       "   2020-04-06  2020-04-07  2020-04-08  2020-04-09  2020-04-10  2020-04-11  \\\n",
       "0       57.53       51.83       56.24       55.66       53.61       53.10   \n",
       "1       78.72       84.27       89.65       91.45       94.55       84.59   \n",
       "2       29.09       32.04       35.46       34.45       30.38       35.15   \n",
       "3       46.45       46.89       55.38       58.33       64.85       63.77   \n",
       "4      153.26      149.76      154.83      162.29      173.56      163.83   \n",
       "\n",
       "   2020-04-12  2020-04-13  2020-04-14  \n",
       "0       54.48       68.16       69.51  \n",
       "1       66.81       69.77       77.98  \n",
       "2       23.34       37.45       38.95  \n",
       "3       64.79       68.02       70.61  \n",
       "4      100.36      160.84      167.65  \n",
       "\n",
       "[5 rows x 94 columns]"
      ]
     },
     "execution_count": 10,
     "metadata": {},
     "output_type": "execute_result"
    }
   ],
   "source": [
    "apple_total_mob_per_day = apple.groupby(['region']).sum().reset_index()\n",
    "apple_total_mob_per_day.head()"
   ]
  },
  {
   "cell_type": "code",
   "execution_count": 11,
   "metadata": {},
   "outputs": [
    {
     "name": "stdout",
     "output_type": "stream",
     "text": [
      "Now we have taken total mobility into consideration, as shown in above data accoding to the religion\n"
     ]
    }
   ],
   "source": [
    "print(\"Now we have taken total mobility into consideration, as shown in above data accoding to the religion\")"
   ]
  },
  {
   "cell_type": "code",
   "execution_count": 12,
   "metadata": {},
   "outputs": [],
   "source": [
    "# defining a function for plotting the cumulative mobility across all transport types for a given region/country\n",
    "\n",
    "def plot_mobility_total(region_country):\n",
    "    apple_total_mob_per_day_region = apple_total_mob_per_day[apple_total_mob_per_day.region == region_country]\n",
    "    apple_total_mob_per_day_region = apple_total_mob_per_day_region.drop(['region'], axis = 1)\n",
    "    apple_total_mob_per_day_region = apple_total_mob_per_day_region.T\n",
    "    apple_total_mob_per_day_region.columns = ['Cumulative Mobility across all transport']\n",
    "    apple_total_mob_per_day_region.plot.line()\n",
    "    \n",
    "    \n",
    "    \n",
    "# defining function to take region name input from the user.\n",
    "\n",
    "def input_region():\n",
    "    print('\\nWhich region/country mobility report would you like to see?')\n",
    "    region_name = input()\n",
    "    if(region_name in regions):\n",
    "        print('\\nBelow plotted is the mobility report for the region/country: ', region_name)\n",
    "        plot_mobility_total(region_name)\n",
    "    else:\n",
    "        print('\\nData on this region/country is not available')\n",
    "        print('\\nWanna see the mobility plots of some other region/country ? Enter `Y` or `N`')\n",
    "        ques = input()\n",
    "        if(ques == 'Y' or 'y'):\n",
    "            input_region()\n",
    "        else:\n",
    "            print('\\n\\n\\nCOVID-19 has spread all across the world. Many countries have adopted lockdown measures in their regions, evident from the plots you saw. Stay Home Stay Safe.')"
   ]
  },
  {
   "cell_type": "code",
   "execution_count": 13,
   "metadata": {},
   "outputs": [
    {
     "name": "stdout",
     "output_type": "stream",
     "text": [
      "\n",
      "Which region/country mobility report would you like to see?\n",
      "Germany\n",
      "\n",
      "Below plotted is the mobility report for the region/country:  Germany\n"
     ]
    },
    {
     "data": {
      "image/png": "[encoded data removed]",
      "text/plain": [
       "<matplotlib.figure.Figure at 0x244a0a2b1d0>"
      ]
     },
     "metadata": {},
     "output_type": "display_data"
    }
   ],
   "source": [
    "# Lets plot for Germany.\n",
    "input_region()"
   ]
  },
  {
   "cell_type": "markdown",
   "metadata": {},
   "source": [
    "    Germany has been hard hit by COVID 19. As of 21st April, there are 147,103 cases and around 5000 deaths. Due to an excellent countrywide Medical and Health \n",
    "    care system, Germany also happens to have the highest recovery rate among top hard hit countries by COVID19.\n",
    "    \n",
    "> Germany government had declared a nationwide curfew on 22nd of March, however strict measures on people's movements already began being taken around 10th March. The same is clearly evident from our plot. The cumulative mobility across Germany looks to be sharply falling down staring around 12th March. As of now, German government ahs started loosening the lockdown restrictions as the country marches towards, what appears to be a stability in daily cases. The same is again evident from the plot, of late in april mobility has again begun picking up."
   ]
  },
  {
   "cell_type": "markdown",
   "metadata": {},
   "source": [
    "### Now lets also work on plots for mobility across transport types"
   ]
  },
  {
   "cell_type": "code",
   "execution_count": 14,
   "metadata": {},
   "outputs": [
    {
     "data": {
      "text/plain": [
       "driving    152\n",
       "walking    152\n",
       "transit     91\n",
       "Name: transportation_type, dtype: int64"
      ]
     },
     "execution_count": 14,
     "metadata": {},
     "output_type": "execute_result"
    }
   ],
   "source": [
    "apple.transportation_type.value_counts()"
   ]
  },
  {
   "cell_type": "markdown",
   "metadata": {},
   "source": [
    "Note from above that all the 152 countries/ regions have data for `driving` and `walking` transportation type, some have `transit` type too."
   ]
  },
  {
   "cell_type": "code",
   "execution_count": 15,
   "metadata": {},
   "outputs": [],
   "source": [
    "# defining a function for plotting the transportation_type wise mobility for a given region/country\n",
    "\n",
    "def plot_mobility_region_trans(region_country_trans):\n",
    "    apple_mob_trans_wise = apple[apple.region == region_country_trans]\n",
    "    apple_mob_trans_wise = apple_mob_trans_wise.drop(['region'], axis = 1)\n",
    "    apple_mob_trans_wise = apple_mob_trans_wise.T\n",
    "\n",
    "    if len(apple_mob_trans_wise.columns) < 3:\n",
    "        apple_mob_trans_wise.columns = ['driving', 'walking']\n",
    "    elif len(apple_mob_trans_wise.columns) == 3:\n",
    "        apple_mob_trans_wise.columns = ['driving', 'walking', 'transit']\n",
    "    \n",
    "    apple_mob_trans_wise = apple_mob_trans_wise[1:]\n",
    "    apple_mob_trans_wise.plot.line(title='Mobility Report')\n",
    "    \n",
    "    \n",
    "# defining function to take region name input from the user.\n",
    "    \n",
    "def input_region_trans():\n",
    "    print('Which region/country mobility report would you like to see?')\n",
    "    region_name_trans = input()\n",
    "    if(region_name_trans in regions):\n",
    "        print('Below plotted is the mobility report for the region/country: ', region_name_trans)\n",
    "        plot_mobility_region_trans(region_name_trans)\n",
    "    else:\n",
    "        print('Data on this country is not available')\n",
    "        print('\\nWanna see the mobility plots of some other region/country ? Enter `Y` or `N`')\n",
    "        ques = input()\n",
    "        if(ques == 'Y'):\n",
    "            input_region_trans()\n",
    "        else:\n",
    "            print('\\n\\n\\nCOVID-19 has spread all across the world. Many countries have adopted lockdown measures in their regions, evident from the plots you saw. Stay Home Stay Safe.')"
   ]
  },
  {
   "cell_type": "markdown",
   "metadata": {},
   "source": [
    "Lets plot people's mobility for some of the countries/regions and observe how lockdown measures have impacted the region."
   ]
  },
  {
   "cell_type": "code",
   "execution_count": 16,
   "metadata": {},
   "outputs": [
    {
     "name": "stdout",
     "output_type": "stream",
     "text": [
      "Which region/country mobility report would you like to see?\n",
      "Detroit\n",
      "Below plotted is the mobility report for the region/country:  Detroit\n"
     ]
    },
    {
     "data": {
      "image/png": "[encoded data removed]",
      "text/plain": [
       "<matplotlib.figure.Figure at 0x244a089f5c0>"
      ]
     },
     "metadata": {},
     "output_type": "display_data"
    }
   ],
   "source": [
    "# Lets plot for Detroit, USA\n",
    "input_region_trans()"
   ]
  },
  {
   "cell_type": "markdown",
   "metadata": {},
   "source": [
    "    Detroit is best known as the center of the U.S. automobile industry, and the \"Big Three\" auto manufacturers General Motors, Ford, and Fiat Chrysler are all\n",
    "    headquartered in Metro Detroit. This industry requires many labors who come from far off places.\n",
    "\n",
    "> Observe there is a major spike in transit mobility around 22nd Feb. Also throughout February, there was a strong transit mobility. I suppose this high transit mobility must have been due to people taking public transport to move back to their homes (as a panick action) due to sudden strong US government measures to fight COVID 19.\n",
    "\n",
    "> Other than transit mobility, the mobility via driving or walking are not much and start dying down March onwards."
   ]
  },
  {
   "cell_type": "code",
   "execution_count": 17,
   "metadata": {},
   "outputs": [
    {
     "name": "stdout",
     "output_type": "stream",
     "text": [
      "Which region/country mobility report would you like to see?\n",
      "Spain\n",
      "Below plotted is the mobility report for the region/country:  Spain\n"
     ]
    },
    {
     "data": {
      "image/png": "[encoded data removed]",
      "text/plain": [
       "<matplotlib.figure.Figure at 0x244a07183c8>"
      ]
     },
     "metadata": {},
     "output_type": "display_data"
    }
   ],
   "source": [
    "# Lets plot for Spain\n",
    "input_region_trans()"
   ]
  },
  {
   "cell_type": "markdown",
   "metadata": {},
   "source": [
    "    Spain is one among the top worst hit countries by COVID 19. As of 21st April there are 204,178 cases in Spain, and more than 20000 deaths.\n",
    "    \n",
    "    \n",
    ">Note how the mobilty was pretty descent until a strict lockdown measures was taken by the \n",
    "Spanish Government. Note the dramatic drop around 12th March. This seems to be very much inline with the fact that Spanish Government imposed a nation wide\n",
    "lockdown on 14th March."
   ]
  },
  {
   "cell_type": "markdown",
   "metadata": {},
   "source": [
    "### The mobility in India"
   ]
  },
  {
   "cell_type": "code",
   "execution_count": 22,
   "metadata": {},
   "outputs": [
    {
     "name": "stdout",
     "output_type": "stream",
     "text": [
      "Which region/country mobility report would you like to see?\n",
      "India\n",
      "Below plotted is the mobility report for the region/country:  India\n"
     ]
    },
    {
     "data": {
      "image/png": "[encoded data removed]",
      "text/plain": [
       "<matplotlib.figure.Figure at 0x244a0bb5be0>"
      ]
     },
     "metadata": {},
     "output_type": "display_data"
    }
   ],
   "source": [
    "input_region_trans()"
   ]
  },
  {
   "cell_type": "markdown",
   "metadata": {},
   "source": [
    "Above is the visualization of the mobility report in India which used to be at peak before the spread of covid-19 and now it shows a drastic change which decreased the mobility of people; This also insures that the Lockdown is taken into consideration by People."
   ]
  },
  {
   "cell_type": "markdown",
   "metadata": {},
   "source": [
    "#### dividing the dataframe : before corona(bc) and after corona(bc) in India"
   ]
  },
  {
   "cell_type": "markdown",
   "metadata": {},
   "source": [
    "India reported the first confirmed case of the coronavirus infection on 30 January 2020 in the state of Kerala. The affected had a travel history from Wuhan, China.\n",
    "\n"
   ]
  },
  {
   "cell_type": "code",
   "execution_count": 18,
   "metadata": {},
   "outputs": [
    {
     "name": "stdout",
     "output_type": "stream",
     "text": [
      "(1, 18)\n"
     ]
    },
    {
     "data": {
      "text/html": [
       "<div>\n",
       "<style scoped>\n",
       "    .dataframe tbody tr th:only-of-type {\n",
       "        vertical-align: middle;\n",
       "    }\n",
       "\n",
       "    .dataframe tbody tr th {\n",
       "        vertical-align: top;\n",
       "    }\n",
       "\n",
       "    .dataframe thead th {\n",
       "        text-align: right;\n",
       "    }\n",
       "</style>\n",
       "<table border=\"1\" class=\"dataframe\">\n",
       "  <thead>\n",
       "    <tr style=\"text-align: right;\">\n",
       "      <th></th>\n",
       "      <th>59</th>\n",
       "    </tr>\n",
       "  </thead>\n",
       "  <tbody>\n",
       "    <tr>\n",
       "      <th>2020-01-13</th>\n",
       "      <td>200.00</td>\n",
       "    </tr>\n",
       "    <tr>\n",
       "      <th>2020-01-14</th>\n",
       "      <td>201.53</td>\n",
       "    </tr>\n",
       "    <tr>\n",
       "      <th>2020-01-15</th>\n",
       "      <td>212.04</td>\n",
       "    </tr>\n",
       "    <tr>\n",
       "      <th>2020-01-16</th>\n",
       "      <td>218.18</td>\n",
       "    </tr>\n",
       "    <tr>\n",
       "      <th>2020-01-17</th>\n",
       "      <td>234.55</td>\n",
       "    </tr>\n",
       "  </tbody>\n",
       "</table>\n",
       "</div>"
      ],
      "text/plain": [
       "                59\n",
       "2020-01-13  200.00\n",
       "2020-01-14  201.53\n",
       "2020-01-15  212.04\n",
       "2020-01-16  218.18\n",
       "2020-01-17  234.55"
      ]
     },
     "execution_count": 18,
     "metadata": {},
     "output_type": "execute_result"
    },
    {
     "data": {
      "image/png": "[encoded data removed]",
      "text/plain": [
       "<matplotlib.figure.Figure at 0x244a097eeb8>"
      ]
     },
     "metadata": {},
     "output_type": "display_data"
    }
   ],
   "source": [
    "bc= apple_total_mob_per_day.iloc[:,0:19]\n",
    "bc= bc.loc[bc['region'] == 'India']\n",
    "bc=bc.iloc[:,1:19]\n",
    "print(bc.shape)\n",
    "bc = bc.T\n",
    "bc.plot.line(title='Before 1st case of corona, mobility in India')\n",
    "bc.head()\n",
    "\n"
   ]
  },
  {
   "cell_type": "code",
   "execution_count": 19,
   "metadata": {},
   "outputs": [
    {
     "name": "stdout",
     "output_type": "stream",
     "text": [
      "(1, 75)\n"
     ]
    },
    {
     "data": {
      "text/html": [
       "<div>\n",
       "<style scoped>\n",
       "    .dataframe tbody tr th:only-of-type {\n",
       "        vertical-align: middle;\n",
       "    }\n",
       "\n",
       "    .dataframe tbody tr th {\n",
       "        vertical-align: top;\n",
       "    }\n",
       "\n",
       "    .dataframe thead th {\n",
       "        text-align: right;\n",
       "    }\n",
       "</style>\n",
       "<table border=\"1\" class=\"dataframe\">\n",
       "  <thead>\n",
       "    <tr style=\"text-align: right;\">\n",
       "      <th></th>\n",
       "      <th>59</th>\n",
       "    </tr>\n",
       "  </thead>\n",
       "  <tbody>\n",
       "    <tr>\n",
       "      <th>2020-01-31</th>\n",
       "      <td>239.54</td>\n",
       "    </tr>\n",
       "    <tr>\n",
       "      <th>2020-02-01</th>\n",
       "      <td>257.45</td>\n",
       "    </tr>\n",
       "    <tr>\n",
       "      <th>2020-02-02</th>\n",
       "      <td>233.04</td>\n",
       "    </tr>\n",
       "    <tr>\n",
       "      <th>2020-02-03</th>\n",
       "      <td>219.29</td>\n",
       "    </tr>\n",
       "    <tr>\n",
       "      <th>2020-02-04</th>\n",
       "      <td>224.55</td>\n",
       "    </tr>\n",
       "  </tbody>\n",
       "</table>\n",
       "</div>"
      ],
      "text/plain": [
       "                59\n",
       "2020-01-31  239.54\n",
       "2020-02-01  257.45\n",
       "2020-02-02  233.04\n",
       "2020-02-03  219.29\n",
       "2020-02-04  224.55"
      ]
     },
     "execution_count": 19,
     "metadata": {},
     "output_type": "execute_result"
    },
    {
     "data": {
      "image/png": "[encoded data removed]",
      "text/plain": [
       "<matplotlib.figure.Figure at 0x244a09230f0>"
      ]
     },
     "metadata": {},
     "output_type": "display_data"
    }
   ],
   "source": [
    "ac= apple_total_mob_per_day.loc[apple_total_mob_per_day['region'] == 'India']\n",
    "ac= ac.iloc[:,19:]\n",
    "print(ac.shape)\n",
    "ac = ac.T\n",
    "ac.plot.line(title='After 1st case of corona, mobility in India',color='red')\n",
    "ac.head()\n",
    "\n",
    "\n"
   ]
  },
  {
   "cell_type": "code",
   "execution_count": 20,
   "metadata": {},
   "outputs": [
    {
     "name": "stdout",
     "output_type": "stream",
     "text": [
      "(75, 1)\n"
     ]
    },
    {
     "data": {
      "text/html": [
       "<div>\n",
       "<style scoped>\n",
       "    .dataframe tbody tr th:only-of-type {\n",
       "        vertical-align: middle;\n",
       "    }\n",
       "\n",
       "    .dataframe tbody tr th {\n",
       "        vertical-align: top;\n",
       "    }\n",
       "\n",
       "    .dataframe thead th {\n",
       "        text-align: right;\n",
       "    }\n",
       "</style>\n",
       "<table border=\"1\" class=\"dataframe\">\n",
       "  <thead>\n",
       "    <tr style=\"text-align: right;\">\n",
       "      <th></th>\n",
       "      <th>59</th>\n",
       "    </tr>\n",
       "  </thead>\n",
       "  <tbody>\n",
       "    <tr>\n",
       "      <th>2020-03-25</th>\n",
       "      <td>52.26</td>\n",
       "    </tr>\n",
       "    <tr>\n",
       "      <th>2020-03-26</th>\n",
       "      <td>53.25</td>\n",
       "    </tr>\n",
       "    <tr>\n",
       "      <th>2020-03-27</th>\n",
       "      <td>56.33</td>\n",
       "    </tr>\n",
       "    <tr>\n",
       "      <th>2020-03-28</th>\n",
       "      <td>54.77</td>\n",
       "    </tr>\n",
       "    <tr>\n",
       "      <th>2020-03-29</th>\n",
       "      <td>51.12</td>\n",
       "    </tr>\n",
       "  </tbody>\n",
       "</table>\n",
       "</div>"
      ],
      "text/plain": [
       "               59\n",
       "2020-03-25  52.26\n",
       "2020-03-26  53.25\n",
       "2020-03-27  56.33\n",
       "2020-03-28  54.77\n",
       "2020-03-29  51.12"
      ]
     },
     "execution_count": 20,
     "metadata": {},
     "output_type": "execute_result"
    },
    {
     "data": {
      "image/png": "[encoded data removed]",
      "text/plain": [
       "<matplotlib.figure.Figure at 0x244a0aaa6a0>"
      ]
     },
     "metadata": {},
     "output_type": "display_data"
    }
   ],
   "source": [
    "ld= apple_total_mob_per_day.loc[apple_total_mob_per_day['region'] == 'India']\n",
    "ld= ld.iloc[:,73:]\n",
    "print(ac.shape)\n",
    "ld = ld.T\n",
    "ld.plot.line(title='After 1st case of corona, mobility in India',color='green')\n",
    "ld.head()\n"
   ]
  },
  {
   "cell_type": "markdown",
   "metadata": {},
   "source": [
    "we can see that the lockdown in India starts from 25-03-2020. Since, there was mobility in India for few days, later on the lockdown showed its impact and hence the spread of corona virus came into control."
   ]
  },
  {
   "cell_type": "code",
   "execution_count": 21,
   "metadata": {},
   "outputs": [
    {
     "data": {
      "text/plain": [
       "[<matplotlib.lines.Line2D at 0x244a0a2fcc0>]"
      ]
     },
     "execution_count": 21,
     "metadata": {},
     "output_type": "execute_result"
    },
    {
     "data": {
      "image/png": "[encoded data removed]",
      "text/plain": [
       "<matplotlib.figure.Figure at 0x244a0bdefd0>"
      ]
     },
     "metadata": {},
     "output_type": "display_data"
    }
   ],
   "source": [
    "fig1 = plt.figure()\n",
    "ax1 = fig1.add_subplot(111)\n",
    "\n",
    "ax1.plot(bc[59])\n",
    "ax1.plot(ac[59])\n",
    "ax1.plot(ld[59])\n"
   ]
  },
  {
   "cell_type": "markdown",
   "metadata": {},
   "source": [
    "the above graph shows the mobility in India throughtout the period in respective before corona, after corona and the lockdown.\n",
    "considering after corona as after the first case of corona patient in India"
   ]
  },
  {
   "cell_type": "markdown",
   "metadata": {},
   "source": [
    "# CONCLUSION:"
   ]
  },
  {
   "cell_type": "markdown",
   "metadata": {},
   "source": [
    "The data has been taken from the Apple Mobility Trends which shows the Apple mobile phone users in the world.In all the above visulization we have considered some data which represents before and after Covid-19 spread in World.we can conclude that the years and years before Covid-19 the mobility in the country was at the peak and suddenly in Year 2020 at certain point it decreases, this shows the impact of Lockdown which was taken into consideration looking ahead for thr spread of Covid-19.Lockdown as well as the virus spread varies from country to country; Atlast we have considered the country India to plot a visulaization graph of mobility throught the tenure.\n",
    "\n",
    "Beside all other impacts of Covid-19 we can see the impact on mobility; that is the migration of people as they are stuck at the same place.\n",
    "\n",
    "\n",
    "The current outbreak of COVID-19 has affected global mobility in the form of various travel disruptions, restrictions and blockages. To better understand how COVID-19 affects global mobility, the International Organization for Migration (IOM) has been working to map the impacts on human mobility, at Global, Regional and Country level. Subsequently, the IOM have initiated the following activities:\n",
    "1.COVID-19 Travel Restriction Monitoring \n",
    "2.COVID-19 Country Points of Entry (PoE) Status Baseline Assessment\n",
    "\n",
    "\n",
    "the predictions are divided into 7 topics:\n",
    "\n",
    "2020 will see more travel time goals in major urban areas as a result of transportation planning efforts. The impact of COVID-19 is likely marginal here. Yet, it is possible that the transport planning process may become much more flexible than it is now and start taking into consideration situations such as natural disasters and disease outbreaks.\n",
    "\n",
    "Autonomous vehicles (AVs) will actually be put into public transport services. Measures like the implementation of rear-door boarding, elimination of on-board payment and installation of panels next to the driver, were applied to reduce driver exposure. In this context, the deployment of AVs could be seen as a further solution to safeguard transit operators.\n",
    "\n",
    "Higher use of artificial intelligence and deep learning in public transport. COVID-19 may accelerate the development of artificial intelligence in many different areas representing a reduction of human contact or proximity. For example, digital assistants could be used to check the temperatures of boarding travellers as well as regulate the number of passengers.\n",
    "\n",
    "Traffic management will be recognised as a significant portion of Mobility-as-a-Service (MaaS). Even though mobility choices will be affected, COVID-19 effects on this prediction are minimal as including data from traffic management and operations should still be feasible.\n",
    "\n",
    "Perfecting the ‘complete’ trip. Before COVID-19, there were numerous barriers to disabled, older, and low-income people attempting to make a “complete” trip. Now, the barriers are even bigger. Performing a complete trip during a pandemic may be challenging unless several solutions are improved. For example, providing real-time seating and wheelchair space availability to help to comply with physical distancing.\n",
    "\n",
    "The proliferation of kerb management initiatives and systems. COVID-19 has already made significant changes in this area. Many cities have introduced changes to allow short-term parking and reduce parking near highly frequented areas.\n",
    "\n",
    "2020 will continue to move toward open platforms and data to drive technology-enabled mobility services. COVID-19 can be seen as an accelerator for the development of open platforms and data. For example, incorporating social distancing into a MaaS platform would be one way of ensuring that travellers are provided with all available and safe mobility options.\n",
    "    \n",
    "    \n"
   ]
  },
  {
   "cell_type": "code",
   "execution_count": null,
   "metadata": {},
   "outputs": [],
   "source": []
  }
 ],
 "metadata": {
  "kernelspec": {
   "display_name": "Python 3",
   "language": "python",
   "name": "python3"
  },
  "language_info": {
   "codemirror_mode": {
    "name": "ipython",
    "version": 3
   },
   "file_extension": ".py",
   "mimetype": "text/x-python",
   "name": "python",
   "nbconvert_exporter": "python",
   "pygments_lexer": "ipython3",
   "version": "3.6.4"
  }
 },
 "nbformat": 4,
 "nbformat_minor": 4
}
